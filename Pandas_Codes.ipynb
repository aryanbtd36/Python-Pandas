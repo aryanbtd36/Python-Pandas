{
  "nbformat": 4,
  "nbformat_minor": 0,
  "metadata": {
    "colab": {
      "provenance": [],
      "authorship_tag": "ABX9TyNRPBUWAUIUsxYI/TllyzqH",
      "include_colab_link": true
    },
    "kernelspec": {
      "name": "python3",
      "display_name": "Python 3"
    },
    "language_info": {
      "name": "python"
    }
  },
  "cells": [
    {
      "cell_type": "markdown",
      "metadata": {
        "id": "view-in-github",
        "colab_type": "text"
      },
      "source": [
        "<a href=\"https://colab.research.google.com/github/aryanbtd36/Python-Pandas/blob/main/Pandas_Codes.ipynb\" target=\"_parent\"><img src=\"https://colab.research.google.com/assets/colab-badge.svg\" alt=\"Open In Colab\"/></a>"
      ]
    },
    {
      "cell_type": "code",
      "execution_count": null,
      "metadata": {
        "id": "VwTxXemKwP4r",
        "outputId": "c3a58a02-eaae-44a9-9fc2-bfa44237a20c",
        "colab": {
          "base_uri": "https://localhost:8080/"
        }
      },
      "outputs": [
        {
          "output_type": "stream",
          "name": "stdout",
          "text": [
            "    Name  Age\n",
            "0  Ayush   18\n",
            "1  Aryan   19\n",
            "2  Riyaz  20 \n",
            "3  Mridu   18\n",
            "4  Jivan   18\n"
          ]
        }
      ],
      "source": [
        "#FIRST BASIC CODE OF PANDAS\n",
        "#Example-- 1\n",
        "import pandas as pd\n",
        "dataset = { 'Name' : [ \"Ayush\" , \"Aryan\" , \"Riyaz\" , \"Mridu\" , \"Jivan\" ] ,\n",
        "           'Age' : [ \"18\" , \"19\", \"20 \" , \"18\" , \"18\" ]\n",
        "          }\n",
        "mylist = pd.DataFrame(dataset)\n",
        "print(mylist)"
      ]
    },
    {
      "cell_type": "code",
      "source": [
        "#Example--2\n",
        "import pandas as pd\n",
        "mydataset = {'Subjects' : [\"Maths\",\"Physics\",\"Chemmistry\",\"English\",\"Physical Education\"] ,\n",
        "             'Marks' : [\"93\", \"92\",\"94\",\"95\",\"96\"]\n",
        "            }\n",
        "myfile = pd.DataFrame(mydataset)\n",
        "print(myfile)"
      ],
      "metadata": {
        "id": "_cWeaqP3xFIH",
        "outputId": "c2a03ef1-75fb-45b7-beac-3f13f5e09964",
        "colab": {
          "base_uri": "https://localhost:8080/"
        }
      },
      "execution_count": null,
      "outputs": [
        {
          "output_type": "stream",
          "name": "stdout",
          "text": [
            "             Subjects Marks\n",
            "0               Maths    93\n",
            "1             Physics    92\n",
            "2          Chemmistry    94\n",
            "3             English    95\n",
            "4  Physical Education    96\n"
          ]
        }
      ]
    },
    {
      "cell_type": "code",
      "source": [
        "#Series\n",
        "import pandas as pd\n",
        "\n",
        "a = [1, 7, 2]\n",
        "\n",
        "myvar = pd.Series(a)\n",
        "\n",
        "print(myvar)\n"
      ],
      "metadata": {
        "id": "09O5CG5mxOIp",
        "outputId": "f228046a-18df-4c44-b8c3-3231679cc28f",
        "colab": {
          "base_uri": "https://localhost:8080/"
        }
      },
      "execution_count": null,
      "outputs": [
        {
          "output_type": "stream",
          "name": "stdout",
          "text": [
            "0    1\n",
            "1    7\n",
            "2    2\n",
            "dtype: int64\n"
          ]
        }
      ]
    },
    {
      "cell_type": "code",
      "source": [
        "#Example Code\n",
        "import pandas as pd\n",
        "a = [ 1, 7, 8, 9 ]\n",
        "myvar = pd.Series(a)\n",
        "print(myvar)"
      ],
      "metadata": {
        "id": "jbd1_VK1xT1G",
        "outputId": "e8d4c6e7-26f7-4215-fca8-d360516f9b5d",
        "colab": {
          "base_uri": "https://localhost:8080/"
        }
      },
      "execution_count": null,
      "outputs": [
        {
          "output_type": "stream",
          "name": "stdout",
          "text": [
            "0    1\n",
            "1    7\n",
            "2    8\n",
            "3    9\n",
            "dtype: int64\n"
          ]
        }
      ]
    },
    {
      "cell_type": "code",
      "source": [
        "#Using Indexing\n",
        "import pandas as pd\n",
        "a = [ 1,2,5,4,78 ]\n",
        "myvar = pd.Series(a , index = [ \"x\",\"y\",\"z\",\"p\",\"q\" ] )\n",
        "print(myvar)\n",
        "#Accessing item by referring to the label\n",
        "print(myvar[\"y\"])"
      ],
      "metadata": {
        "id": "Lz-L3pKzxa2h",
        "outputId": "817a4cf6-5fe2-4ff1-de29-676fcbac5fb3",
        "colab": {
          "base_uri": "https://localhost:8080/"
        }
      },
      "execution_count": null,
      "outputs": [
        {
          "output_type": "stream",
          "name": "stdout",
          "text": [
            "x     1\n",
            "y     2\n",
            "z     5\n",
            "p     4\n",
            "q    78\n",
            "dtype: int64\n",
            "2\n"
          ]
        }
      ]
    },
    {
      "cell_type": "code",
      "source": [
        "#Example Code\n",
        "import pandas as pd\n",
        "a = [2,5,4,7,8,9]\n",
        "myvar = pd.Series(a , index = [\"a\",\"b\",\"c\",\"d\",\"e\",\"f\"])\n",
        "print(myvar)\n",
        "print(myvar[\"c\"])"
      ],
      "metadata": {
        "id": "MWKLwa4fxeuR",
        "outputId": "47d3a5f8-5669-4f67-9487-ded82593926c",
        "colab": {
          "base_uri": "https://localhost:8080/"
        }
      },
      "execution_count": null,
      "outputs": [
        {
          "output_type": "stream",
          "name": "stdout",
          "text": [
            "a    2\n",
            "b    5\n",
            "c    4\n",
            "d    7\n",
            "e    8\n",
            "f    9\n",
            "dtype: int64\n",
            "4\n"
          ]
        }
      ]
    },
    {
      "cell_type": "code",
      "source": [
        "#Creating pandas series from dictionary\n",
        "import pandas as pd\n",
        "calories = { \"day1\" : 548 , \"day2\" : 458 , \"day3\" : 587 , \"day4\" : 888 }\n",
        "myvar = pd.Series(calories)\n",
        "print(myvar)"
      ],
      "metadata": {
        "id": "5fW_Mu_hxjTh",
        "outputId": "067fb8a3-e375-4ee8-cc01-245f3b87749c",
        "colab": {
          "base_uri": "https://localhost:8080/"
        }
      },
      "execution_count": null,
      "outputs": [
        {
          "output_type": "stream",
          "name": "stdout",
          "text": [
            "day1    548\n",
            "day2    458\n",
            "day3    587\n",
            "day4    888\n",
            "dtype: int64\n"
          ]
        }
      ]
    },
    {
      "cell_type": "code",
      "source": [
        "#Example Code\n",
        "import pandas as pd\n",
        "data = {\n",
        "    \"calories\": [420,1,4,8],\n",
        "    \"duration\": [125,87,59,99]\n",
        "}\n",
        "myvar = pd.DataFrame(data)\n",
        "print(myvar)"
      ],
      "metadata": {
        "id": "kRolc7b9xlxg",
        "outputId": "f0212ded-bcec-4b06-9eec-6173098476b8",
        "colab": {
          "base_uri": "https://localhost:8080/"
        }
      },
      "execution_count": null,
      "outputs": [
        {
          "output_type": "stream",
          "name": "stdout",
          "text": [
            "   calories  duration\n",
            "0       420       125\n",
            "1         1        87\n",
            "2         4        59\n",
            "3         8        99\n"
          ]
        }
      ]
    },
    {
      "cell_type": "code",
      "source": [
        "#Locating Elements in Pandas using loc[]\n",
        "import pandas as pd\n",
        "data = {\n",
        "    \"weight\" : [\"45\",\"50\",\"60\",\"75\"],\n",
        "    \"height\" : [\"170\",\"155\",\"160\",\"130\"]\n",
        "\n",
        "}\n",
        "df = pd.DataFrame(data)\n",
        "print(df)\n",
        "print(df.loc[1])\n",
        "print(df.loc[3])\n",
        "print(df.loc[[1,3]])\n",
        "print(df.loc[[0,1,2,3]])"
      ],
      "metadata": {
        "id": "zaNL4dHPxplN",
        "colab": {
          "base_uri": "https://localhost:8080/"
        },
        "outputId": "541af59e-4e44-4d50-fa66-f29938cddd0b"
      },
      "execution_count": 9,
      "outputs": [
        {
          "output_type": "stream",
          "name": "stdout",
          "text": [
            "  weight height\n",
            "0     45    170\n",
            "1     50    155\n",
            "2     60    160\n",
            "3     75    130\n",
            "weight     50\n",
            "height    155\n",
            "Name: 1, dtype: object\n",
            "weight     75\n",
            "height    130\n",
            "Name: 3, dtype: object\n",
            "  weight height\n",
            "1     50    155\n",
            "3     75    130\n",
            "  weight height\n",
            "0     45    170\n",
            "1     50    155\n",
            "2     60    160\n",
            "3     75    130\n"
          ]
        }
      ]
    },
    {
      "cell_type": "code",
      "source": [
        "#Naming indexes\n",
        "import pandas as pd\n",
        "data = { \"Weight\": [\"70\",\"65\",\"50\",\"45\"],\n",
        "        \"Height\": [\"128\",\"150\",\"170\",\"165\"]\n",
        "}\n",
        "df = pd.DataFrame(data,  index= [\"Person 1\",\"Person 2\",\"Person 3\",\"Person 4\"] )\n",
        "print(df)\n",
        "\n"
      ],
      "metadata": {
        "colab": {
          "base_uri": "https://localhost:8080/"
        },
        "id": "QLsdRFIzn92p",
        "outputId": "e6bbe2aa-bd55-4757-ac48-3e7e9bec0c85"
      },
      "execution_count": 13,
      "outputs": [
        {
          "output_type": "stream",
          "name": "stdout",
          "text": [
            "         Weight Height\n",
            "Person 1     70    128\n",
            "Person 2     65    150\n",
            "Person 3     50    170\n",
            "Person 4     45    165\n"
          ]
        }
      ]
    },
    {
      "cell_type": "code",
      "source": [
        "#Example Code\n",
        "import pandas as pd\n",
        "data = {\n",
        "    \"calories\": [420,1,4,8],\n",
        "    \"duration\": [125,87,59,99]\n",
        "}\n",
        "df = pd.DataFrame(data , index = [ \"1\",\"2\",\"3\",\"4\"])\n",
        "print(df)\n"
      ],
      "metadata": {
        "colab": {
          "base_uri": "https://localhost:8080/"
        },
        "id": "AhJR3FYsqQvx",
        "outputId": "b529b90d-75fe-488c-9d0e-2a3baad2866b"
      },
      "execution_count": 14,
      "outputs": [
        {
          "output_type": "stream",
          "name": "stdout",
          "text": [
            "   calories  duration\n",
            "1       420       125\n",
            "2         1        87\n",
            "3         4        59\n",
            "4         8        99\n"
          ]
        }
      ]
    },
    {
      "cell_type": "code",
      "source": [
        "#Locating element through custom index name\n",
        "import pandas as pd\n",
        "data = { \"Weight\": [\"70\",\"65\",\"50\",\"45\"],\n",
        "        \"Height\": [\"128\",\"150\",\"170\",\"165\"]\n",
        "}\n",
        "df = pd.DataFrame(data,  index= [\"Person 1\",\"Person 2\",\"Person 3\",\"Person 4\"] )\n",
        "print(df)\n",
        "print(df.loc[\"Person 3\"])\n",
        "print(df.loc[\"Person 4\"])"
      ],
      "metadata": {
        "colab": {
          "base_uri": "https://localhost:8080/"
        },
        "id": "9oN94FqfrbT9",
        "outputId": "08e18dc5-ede0-4b08-d3db-8917f1e52394"
      },
      "execution_count": 16,
      "outputs": [
        {
          "output_type": "stream",
          "name": "stdout",
          "text": [
            "         Weight Height\n",
            "Person 1     70    128\n",
            "Person 2     65    150\n",
            "Person 3     50    170\n",
            "Person 4     45    165\n",
            "Weight     50\n",
            "Height    170\n",
            "Name: Person 3, dtype: object\n",
            "Weight     45\n",
            "Height    165\n",
            "Name: Person 4, dtype: object\n"
          ]
        }
      ]
    },
    {
      "cell_type": "code",
      "source": [],
      "metadata": {
        "id": "BRxAJoLar0ho"
      },
      "execution_count": 17,
      "outputs": []
    },
    {
      "cell_type": "code",
      "source": [],
      "metadata": {
        "id": "_MiejrrFuOXs"
      },
      "execution_count": null,
      "outputs": []
    }
  ]
}