{
  "nbformat": 4,
  "nbformat_minor": 0,
  "metadata": {
    "colab": {
      "provenance": [],
      "authorship_tag": "ABX9TyPJ5c+0KzpMj5ML109H9BWf",
      "include_colab_link": true
    },
    "kernelspec": {
      "name": "python3",
      "display_name": "Python 3"
    },
    "language_info": {
      "name": "python"
    }
  },
  "cells": [
    {
      "cell_type": "markdown",
      "metadata": {
        "id": "view-in-github",
        "colab_type": "text"
      },
      "source": [
        "<a href=\"https://colab.research.google.com/github/aryanbtd36/Python-Pandas/blob/main/Pandas_Codes.ipynb\" target=\"_parent\"><img src=\"https://colab.research.google.com/assets/colab-badge.svg\" alt=\"Open In Colab\"/></a>"
      ]
    },
    {
      "cell_type": "code",
      "execution_count": null,
      "metadata": {
        "id": "VwTxXemKwP4r",
        "outputId": "c3a58a02-eaae-44a9-9fc2-bfa44237a20c",
        "colab": {
          "base_uri": "https://localhost:8080/"
        }
      },
      "outputs": [
        {
          "output_type": "stream",
          "name": "stdout",
          "text": [
            "    Name  Age\n",
            "0  Ayush   18\n",
            "1  Aryan   19\n",
            "2  Riyaz  20 \n",
            "3  Mridu   18\n",
            "4  Jivan   18\n"
          ]
        }
      ],
      "source": [
        "#FIRST BASIC CODE OF PANDAS\n",
        "#Example-- 1\n",
        "import pandas as pd\n",
        "dataset = { 'Name' : [ \"Ayush\" , \"Aryan\" , \"Riyaz\" , \"Mridu\" , \"Jivan\" ] ,\n",
        "           'Age' : [ \"18\" , \"19\", \"20 \" , \"18\" , \"18\" ]\n",
        "          }\n",
        "mylist = pd.DataFrame(dataset)\n",
        "print(mylist)"
      ]
    },
    {
      "cell_type": "code",
      "source": [
        "#Example--2\n",
        "import pandas as pd\n",
        "mydataset = {'Subjects' : [\"Maths\",\"Physics\",\"Chemmistry\",\"English\",\"Physical Education\"] ,\n",
        "             'Marks' : [\"93\", \"92\",\"94\",\"95\",\"96\"]\n",
        "            }\n",
        "myfile = pd.DataFrame(mydataset)\n",
        "print(myfile)"
      ],
      "metadata": {
        "id": "_cWeaqP3xFIH",
        "outputId": "c2a03ef1-75fb-45b7-beac-3f13f5e09964",
        "colab": {
          "base_uri": "https://localhost:8080/"
        }
      },
      "execution_count": null,
      "outputs": [
        {
          "output_type": "stream",
          "name": "stdout",
          "text": [
            "             Subjects Marks\n",
            "0               Maths    93\n",
            "1             Physics    92\n",
            "2          Chemmistry    94\n",
            "3             English    95\n",
            "4  Physical Education    96\n"
          ]
        }
      ]
    },
    {
      "cell_type": "code",
      "source": [
        "#Series\n",
        "import pandas as pd\n",
        "\n",
        "a = [1, 7, 2]\n",
        "\n",
        "myvar = pd.Series(a)\n",
        "\n",
        "print(myvar)\n"
      ],
      "metadata": {
        "id": "09O5CG5mxOIp",
        "outputId": "f228046a-18df-4c44-b8c3-3231679cc28f",
        "colab": {
          "base_uri": "https://localhost:8080/"
        }
      },
      "execution_count": null,
      "outputs": [
        {
          "output_type": "stream",
          "name": "stdout",
          "text": [
            "0    1\n",
            "1    7\n",
            "2    2\n",
            "dtype: int64\n"
          ]
        }
      ]
    },
    {
      "cell_type": "code",
      "source": [
        "#Example Code\n",
        "import pandas as pd\n",
        "a = [ 1, 7, 8, 9 ]\n",
        "myvar = pd.Series(a)\n",
        "print(myvar)"
      ],
      "metadata": {
        "id": "jbd1_VK1xT1G",
        "outputId": "e8d4c6e7-26f7-4215-fca8-d360516f9b5d",
        "colab": {
          "base_uri": "https://localhost:8080/"
        }
      },
      "execution_count": null,
      "outputs": [
        {
          "output_type": "stream",
          "name": "stdout",
          "text": [
            "0    1\n",
            "1    7\n",
            "2    8\n",
            "3    9\n",
            "dtype: int64\n"
          ]
        }
      ]
    },
    {
      "cell_type": "code",
      "source": [
        "#Using Indexing\n",
        "import pandas as pd\n",
        "a = [ 1,2,5,4,78 ]\n",
        "myvar = pd.Series(a , index = [ \"x\",\"y\",\"z\",\"p\",\"q\" ] )\n",
        "print(myvar)\n",
        "#Accessing item by referring to the label\n",
        "print(myvar[\"y\"])"
      ],
      "metadata": {
        "id": "Lz-L3pKzxa2h",
        "outputId": "817a4cf6-5fe2-4ff1-de29-676fcbac5fb3",
        "colab": {
          "base_uri": "https://localhost:8080/"
        }
      },
      "execution_count": null,
      "outputs": [
        {
          "output_type": "stream",
          "name": "stdout",
          "text": [
            "x     1\n",
            "y     2\n",
            "z     5\n",
            "p     4\n",
            "q    78\n",
            "dtype: int64\n",
            "2\n"
          ]
        }
      ]
    },
    {
      "cell_type": "code",
      "source": [
        "#Example Code\n",
        "import pandas as pd\n",
        "a = [2,5,4,7,8,9]\n",
        "myvar = pd.Series(a , index = [\"a\",\"b\",\"c\",\"d\",\"e\",\"f\"])\n",
        "print(myvar)\n",
        "print(myvar[\"c\"])"
      ],
      "metadata": {
        "id": "MWKLwa4fxeuR",
        "outputId": "47d3a5f8-5669-4f67-9487-ded82593926c",
        "colab": {
          "base_uri": "https://localhost:8080/"
        }
      },
      "execution_count": null,
      "outputs": [
        {
          "output_type": "stream",
          "name": "stdout",
          "text": [
            "a    2\n",
            "b    5\n",
            "c    4\n",
            "d    7\n",
            "e    8\n",
            "f    9\n",
            "dtype: int64\n",
            "4\n"
          ]
        }
      ]
    },
    {
      "cell_type": "code",
      "source": [
        "#Creating pandas series from dictionary\n",
        "import pandas as pd\n",
        "calories = { \"day1\" : 548 , \"day2\" : 458 , \"day3\" : 587 , \"day4\" : 888 }\n",
        "myvar = pd.Series(calories)\n",
        "print(myvar)"
      ],
      "metadata": {
        "id": "5fW_Mu_hxjTh",
        "outputId": "067fb8a3-e375-4ee8-cc01-245f3b87749c",
        "colab": {
          "base_uri": "https://localhost:8080/"
        }
      },
      "execution_count": null,
      "outputs": [
        {
          "output_type": "stream",
          "name": "stdout",
          "text": [
            "day1    548\n",
            "day2    458\n",
            "day3    587\n",
            "day4    888\n",
            "dtype: int64\n"
          ]
        }
      ]
    },
    {
      "cell_type": "code",
      "source": [
        "#Example Code\n",
        "import pandas as pd\n",
        "data = {\n",
        "    \"calories\": [420,1,4,8],\n",
        "    \"duration\": [125,87,59,99]\n",
        "}\n",
        "myvar = pd.DataFrame(data)\n",
        "print(myvar)"
      ],
      "metadata": {
        "id": "kRolc7b9xlxg",
        "outputId": "f0212ded-bcec-4b06-9eec-6173098476b8",
        "colab": {
          "base_uri": "https://localhost:8080/"
        }
      },
      "execution_count": null,
      "outputs": [
        {
          "output_type": "stream",
          "name": "stdout",
          "text": [
            "   calories  duration\n",
            "0       420       125\n",
            "1         1        87\n",
            "2         4        59\n",
            "3         8        99\n"
          ]
        }
      ]
    },
    {
      "cell_type": "code",
      "source": [
        "#Locating Elements in Pandas using loc[]\n",
        "import pandas as pd\n",
        "data = {\n",
        "    \"weight\" : [\"45\",\"50\",\"60\",\"75\"],\n",
        "    \"height\" : [\"170\",\"155\",\"160\",\"130\"]\n",
        "\n",
        "}\n",
        "df = pd.DataFrame(data)\n",
        "print(df)\n",
        "print(df.loc[1])\n",
        "print(df.loc[3])\n",
        "print(df.loc[[1,3]])\n",
        "print(df.loc[[0,1,2,3]])"
      ],
      "metadata": {
        "id": "zaNL4dHPxplN",
        "colab": {
          "base_uri": "https://localhost:8080/"
        },
        "outputId": "541af59e-4e44-4d50-fa66-f29938cddd0b"
      },
      "execution_count": null,
      "outputs": [
        {
          "output_type": "stream",
          "name": "stdout",
          "text": [
            "  weight height\n",
            "0     45    170\n",
            "1     50    155\n",
            "2     60    160\n",
            "3     75    130\n",
            "weight     50\n",
            "height    155\n",
            "Name: 1, dtype: object\n",
            "weight     75\n",
            "height    130\n",
            "Name: 3, dtype: object\n",
            "  weight height\n",
            "1     50    155\n",
            "3     75    130\n",
            "  weight height\n",
            "0     45    170\n",
            "1     50    155\n",
            "2     60    160\n",
            "3     75    130\n"
          ]
        }
      ]
    },
    {
      "cell_type": "code",
      "source": [
        "#Naming indexes\n",
        "import pandas as pd\n",
        "data = { \"Weight\": [\"70\",\"65\",\"50\",\"45\"],\n",
        "        \"Height\": [\"128\",\"150\",\"170\",\"165\"]\n",
        "}\n",
        "df = pd.DataFrame(data,  index= [\"Person 1\",\"Person 2\",\"Person 3\",\"Person 4\"] )\n",
        "print(df)\n",
        "\n"
      ],
      "metadata": {
        "colab": {
          "base_uri": "https://localhost:8080/"
        },
        "id": "QLsdRFIzn92p",
        "outputId": "e6bbe2aa-bd55-4757-ac48-3e7e9bec0c85"
      },
      "execution_count": null,
      "outputs": [
        {
          "output_type": "stream",
          "name": "stdout",
          "text": [
            "         Weight Height\n",
            "Person 1     70    128\n",
            "Person 2     65    150\n",
            "Person 3     50    170\n",
            "Person 4     45    165\n"
          ]
        }
      ]
    },
    {
      "cell_type": "code",
      "source": [
        "#Example Code\n",
        "import pandas as pd\n",
        "data = {\n",
        "    \"calories\": [420,1,4,8],\n",
        "    \"duration\": [125,87,59,99]\n",
        "}\n",
        "df = pd.DataFrame(data , index = [ \"1\",\"2\",\"3\",\"4\"])\n",
        "print(df)\n"
      ],
      "metadata": {
        "colab": {
          "base_uri": "https://localhost:8080/"
        },
        "id": "AhJR3FYsqQvx",
        "outputId": "b529b90d-75fe-488c-9d0e-2a3baad2866b"
      },
      "execution_count": null,
      "outputs": [
        {
          "output_type": "stream",
          "name": "stdout",
          "text": [
            "   calories  duration\n",
            "1       420       125\n",
            "2         1        87\n",
            "3         4        59\n",
            "4         8        99\n"
          ]
        }
      ]
    },
    {
      "cell_type": "code",
      "source": [
        "#Locating element through custom index name\n",
        "import pandas as pd\n",
        "data = { \"Weight\": [\"70\",\"65\",\"50\",\"45\"],\n",
        "        \"Height\": [\"128\",\"150\",\"170\",\"165\"]\n",
        "}\n",
        "df = pd.DataFrame(data,  index= [\"Person 1\",\"Person 2\",\"Person 3\",\"Person 4\"] )\n",
        "print(df)\n",
        "print(df.loc[\"Person 3\"])\n",
        "print(df.loc[\"Person 4\"])"
      ],
      "metadata": {
        "colab": {
          "base_uri": "https://localhost:8080/"
        },
        "id": "9oN94FqfrbT9",
        "outputId": "08e18dc5-ede0-4b08-d3db-8917f1e52394"
      },
      "execution_count": null,
      "outputs": [
        {
          "output_type": "stream",
          "name": "stdout",
          "text": [
            "         Weight Height\n",
            "Person 1     70    128\n",
            "Person 2     65    150\n",
            "Person 3     50    170\n",
            "Person 4     45    165\n",
            "Weight     50\n",
            "Height    170\n",
            "Name: Person 3, dtype: object\n",
            "Weight     45\n",
            "Height    165\n",
            "Name: Person 4, dtype: object\n"
          ]
        }
      ]
    },
    {
      "cell_type": "code",
      "source": [
        "import pandas as pd\n",
        "\n",
        "data = pd.read_csv(\"student.csv\")\n",
        "print(data)\n"
      ],
      "metadata": {
        "id": "BRxAJoLar0ho",
        "colab": {
          "base_uri": "https://localhost:8080/"
        },
        "outputId": "c970aec7-dd26-4ca7-9752-2d9aa821573b"
      },
      "execution_count": 8,
      "outputs": [
        {
          "output_type": "stream",
          "name": "stdout",
          "text": [
            "    id         name  class  mark  gender\n",
            "0    1     John Deo   Four    75  female\n",
            "1    2     Max Ruin  Three    85    male\n",
            "2    3       Arnold  Three    55    male\n",
            "3    4   Krish Star   Four    60  female\n",
            "4    5    John Mike   Four    60  female\n",
            "..  ..          ...    ...   ...     ...\n",
            "30  31  Marry Toeey   Four    88    male\n",
            "31  32    Binn Rott  Seven    90  female\n",
            "32  33    Kenn Rein    Six    96  female\n",
            "33  34     Gain Toe  Seven    69    male\n",
            "34  35   Rows Noump    Six    88  female\n",
            "\n",
            "[35 rows x 5 columns]\n"
          ]
        }
      ]
    },
    {
      "cell_type": "code",
      "source": [
        "#Using to_string() for printing whole data present in csv file\n",
        "import pandas as pd\n",
        "df = pd.read_csv(\"data.csv\")\n",
        "print(df.to_string())"
      ],
      "metadata": {
        "id": "_MiejrrFuOXs",
        "colab": {
          "base_uri": "https://localhost:8080/"
        },
        "outputId": "71eefe78-042d-4022-dc39-5177cb96fc0c"
      },
      "execution_count": 4,
      "outputs": [
        {
          "output_type": "stream",
          "name": "stdout",
          "text": [
            "     Duration  Pulse  Maxpulse  Calories\n",
            "0          60    110       130     409.1\n",
            "1          60    117       145     479.0\n",
            "2          60    103       135     340.0\n",
            "3          45    109       175     282.4\n",
            "4          45    117       148     406.0\n",
            "5          60    102       127     300.0\n",
            "6          60    110       136     374.0\n",
            "7          45    104       134     253.3\n",
            "8          30    109       133     195.1\n",
            "9          60     98       124     269.0\n",
            "10         60    103       147     329.3\n",
            "11         60    100       120     250.7\n",
            "12         60    106       128     345.3\n",
            "13         60    104       132     379.3\n",
            "14         60     98       123     275.0\n",
            "15         60     98       120     215.2\n",
            "16         60    100       120     300.0\n",
            "17         45     90       112       NaN\n",
            "18         60    103       123     323.0\n",
            "19         45     97       125     243.0\n",
            "20         60    108       131     364.2\n",
            "21         45    100       119     282.0\n",
            "22         60    130       101     300.0\n",
            "23         45    105       132     246.0\n",
            "24         60    102       126     334.5\n",
            "25         60    100       120     250.0\n",
            "26         60     92       118     241.0\n",
            "27         60    103       132       NaN\n",
            "28         60    100       132     280.0\n",
            "29         60    102       129     380.3\n",
            "30         60     92       115     243.0\n",
            "31         45     90       112     180.1\n",
            "32         60    101       124     299.0\n",
            "33         60     93       113     223.0\n",
            "34         60    107       136     361.0\n",
            "35         60    114       140     415.0\n",
            "36         60    102       127     300.0\n",
            "37         60    100       120     300.0\n",
            "38         60    100       120     300.0\n",
            "39         45    104       129     266.0\n",
            "40         45     90       112     180.1\n",
            "41         60     98       126     286.0\n",
            "42         60    100       122     329.4\n",
            "43         60    111       138     400.0\n",
            "44         60    111       131     397.0\n",
            "45         60     99       119     273.0\n",
            "46         60    109       153     387.6\n",
            "47         45    111       136     300.0\n",
            "48         45    108       129     298.0\n",
            "49         60    111       139     397.6\n",
            "50         60    107       136     380.2\n",
            "51         80    123       146     643.1\n",
            "52         60    106       130     263.0\n",
            "53         60    118       151     486.0\n",
            "54         30    136       175     238.0\n",
            "55         60    121       146     450.7\n",
            "56         60    118       121     413.0\n",
            "57         45    115       144     305.0\n",
            "58         20    153       172     226.4\n",
            "59         45    123       152     321.0\n",
            "60        210    108       160    1376.0\n",
            "61        160    110       137    1034.4\n",
            "62        160    109       135     853.0\n",
            "63         45    118       141     341.0\n",
            "64         20    110       130     131.4\n",
            "65        180     90       130     800.4\n",
            "66        150    105       135     873.4\n",
            "67        150    107       130     816.0\n",
            "68         20    106       136     110.4\n",
            "69        300    108       143    1500.2\n",
            "70        150     97       129    1115.0\n",
            "71         60    109       153     387.6\n",
            "72         90    100       127     700.0\n",
            "73        150     97       127     953.2\n",
            "74         45    114       146     304.0\n",
            "75         90     98       125     563.2\n",
            "76         45    105       134     251.0\n",
            "77         45    110       141     300.0\n",
            "78        120    100       130     500.4\n",
            "79        270    100       131    1729.0\n",
            "80         30    159       182     319.2\n",
            "81         45    149       169     344.0\n",
            "82         30    103       139     151.1\n",
            "83        120    100       130     500.0\n",
            "84         45    100       120     225.3\n",
            "85         30    151       170     300.0\n",
            "86         45    102       136     234.0\n",
            "87        120    100       157    1000.1\n",
            "88         45    129       103     242.0\n",
            "89         20     83       107      50.3\n",
            "90        180    101       127     600.1\n",
            "91         45    107       137       NaN\n",
            "92         30     90       107     105.3\n",
            "93         15     80       100      50.5\n",
            "94         20    150       171     127.4\n",
            "95         20    151       168     229.4\n",
            "96         30     95       128     128.2\n",
            "97         25    152       168     244.2\n",
            "98         30    109       131     188.2\n",
            "99         90     93       124     604.1\n",
            "100        20     95       112      77.7\n",
            "101        90     90       110     500.0\n",
            "102        90     90       100     500.0\n",
            "103        90     90       100     500.4\n",
            "104        30     92       108      92.7\n",
            "105        30     93       128     124.0\n",
            "106       180     90       120     800.3\n",
            "107        30     90       120      86.2\n",
            "108        90     90       120     500.3\n",
            "109       210    137       184    1860.4\n",
            "110        60    102       124     325.2\n",
            "111        45    107       124     275.0\n",
            "112        15    124       139     124.2\n",
            "113        45    100       120     225.3\n",
            "114        60    108       131     367.6\n",
            "115        60    108       151     351.7\n",
            "116        60    116       141     443.0\n",
            "117        60     97       122     277.4\n",
            "118        60    105       125       NaN\n",
            "119        60    103       124     332.7\n",
            "120        30    112       137     193.9\n",
            "121        45    100       120     100.7\n",
            "122        60    119       169     336.7\n",
            "123        60    107       127     344.9\n",
            "124        60    111       151     368.5\n",
            "125        60     98       122     271.0\n",
            "126        60     97       124     275.3\n",
            "127        60    109       127     382.0\n",
            "128        90     99       125     466.4\n",
            "129        60    114       151     384.0\n",
            "130        60    104       134     342.5\n",
            "131        60    107       138     357.5\n",
            "132        60    103       133     335.0\n",
            "133        60    106       132     327.5\n",
            "134        60    103       136     339.0\n",
            "135        20    136       156     189.0\n",
            "136        45    117       143     317.7\n",
            "137        45    115       137     318.0\n",
            "138        45    113       138     308.0\n",
            "139        20    141       162     222.4\n",
            "140        60    108       135     390.0\n",
            "141        60     97       127       NaN\n",
            "142        45    100       120     250.4\n",
            "143        45    122       149     335.4\n",
            "144        60    136       170     470.2\n",
            "145        45    106       126     270.8\n",
            "146        60    107       136     400.0\n",
            "147        60    112       146     361.9\n",
            "148        30    103       127     185.0\n",
            "149        60    110       150     409.4\n",
            "150        60    106       134     343.0\n",
            "151        60    109       129     353.2\n",
            "152        60    109       138     374.0\n",
            "153        30    150       167     275.8\n",
            "154        60    105       128     328.0\n",
            "155        60    111       151     368.5\n",
            "156        60     97       131     270.4\n",
            "157        60    100       120     270.4\n",
            "158        60    114       150     382.8\n",
            "159        30     80       120     240.9\n",
            "160        30     85       120     250.4\n",
            "161        45     90       130     260.4\n",
            "162        45     95       130     270.0\n",
            "163        45    100       140     280.9\n",
            "164        60    105       140     290.8\n",
            "165        60    110       145     300.0\n",
            "166        60    115       145     310.2\n",
            "167        75    120       150     320.4\n",
            "168        75    125       150     330.4\n"
          ]
        }
      ]
    },
    {
      "cell_type": "code",
      "source": [
        "import pandas as pd\n",
        "df = pd.read_json('https://www.w3schools.com/python/pandas/data.js')\n",
        "print(df)"
      ],
      "metadata": {
        "colab": {
          "base_uri": "https://localhost:8080/"
        },
        "id": "5M6kmXogBHUV",
        "outputId": "bc4bed04-7396-46ff-b062-74942396c2b4"
      },
      "execution_count": 13,
      "outputs": [
        {
          "output_type": "stream",
          "name": "stdout",
          "text": [
            "     Duration  Pulse  Maxpulse  Calories\n",
            "0          60    110       130     409.1\n",
            "1          60    117       145     479.0\n",
            "2          60    103       135     340.0\n",
            "3          45    109       175     282.4\n",
            "4          45    117       148     406.0\n",
            "..        ...    ...       ...       ...\n",
            "164        60    105       140     290.8\n",
            "165        60    110       145     300.4\n",
            "166        60    115       145     310.2\n",
            "167        75    120       150     320.4\n",
            "168        75    125       150     330.4\n",
            "\n",
            "[169 rows x 4 columns]\n"
          ]
        }
      ]
    },
    {
      "cell_type": "code",
      "source": [
        "import pandas as pd\n",
        "data = pd.read_csv(\"data.csv\")\n",
        "print(data.head(21))"
      ],
      "metadata": {
        "id": "AG_gATgkEfml",
        "outputId": "cf38bba4-69ca-432f-cb65-70357e60bd95",
        "colab": {
          "base_uri": "https://localhost:8080/"
        }
      },
      "execution_count": 17,
      "outputs": [
        {
          "output_type": "stream",
          "name": "stdout",
          "text": [
            "    Duration  Pulse  Maxpulse  Calories\n",
            "0         60    110       130     409.1\n",
            "1         60    117       145     479.0\n",
            "2         60    103       135     340.0\n",
            "3         45    109       175     282.4\n",
            "4         45    117       148     406.0\n",
            "5         60    102       127     300.0\n",
            "6         60    110       136     374.0\n",
            "7         45    104       134     253.3\n",
            "8         30    109       133     195.1\n",
            "9         60     98       124     269.0\n",
            "10        60    103       147     329.3\n",
            "11        60    100       120     250.7\n",
            "12        60    106       128     345.3\n",
            "13        60    104       132     379.3\n",
            "14        60     98       123     275.0\n",
            "15        60     98       120     215.2\n",
            "16        60    100       120     300.0\n",
            "17        45     90       112       NaN\n",
            "18        60    103       123     323.0\n",
            "19        45     97       125     243.0\n",
            "20        60    108       131     364.2\n"
          ]
        }
      ]
    },
    {
      "cell_type": "code",
      "source": [
        "import pandas as pd\n",
        "data = pd.read_csv(\"data.csv\")\n",
        "print(data.tail(21))"
      ],
      "metadata": {
        "id": "b5N_sEXoHfaI",
        "outputId": "1b482d59-4c2b-4ad5-963e-096cb0247bea",
        "colab": {
          "base_uri": "https://localhost:8080/"
        }
      },
      "execution_count": 16,
      "outputs": [
        {
          "output_type": "stream",
          "name": "stdout",
          "text": [
            "     Duration  Pulse  Maxpulse  Calories\n",
            "148        30    103       127     185.0\n",
            "149        60    110       150     409.4\n",
            "150        60    106       134     343.0\n",
            "151        60    109       129     353.2\n",
            "152        60    109       138     374.0\n",
            "153        30    150       167     275.8\n",
            "154        60    105       128     328.0\n",
            "155        60    111       151     368.5\n",
            "156        60     97       131     270.4\n",
            "157        60    100       120     270.4\n",
            "158        60    114       150     382.8\n",
            "159        30     80       120     240.9\n",
            "160        30     85       120     250.4\n",
            "161        45     90       130     260.4\n",
            "162        45     95       130     270.0\n",
            "163        45    100       140     280.9\n",
            "164        60    105       140     290.8\n",
            "165        60    110       145     300.0\n",
            "166        60    115       145     310.2\n",
            "167        75    120       150     320.4\n",
            "168        75    125       150     330.4\n"
          ]
        }
      ]
    },
    {
      "cell_type": "code",
      "source": [
        "import pandas as ps\n",
        "data = pd.read_csv(\"data.csv\")\n",
        "print(data.info())"
      ],
      "metadata": {
        "id": "jhJwO8hqIg9B",
        "outputId": "3e5e9e65-b2e7-4a0d-846f-00d71bdc19dd",
        "colab": {
          "base_uri": "https://localhost:8080/"
        }
      },
      "execution_count": 19,
      "outputs": [
        {
          "output_type": "stream",
          "name": "stdout",
          "text": [
            "<class 'pandas.core.frame.DataFrame'>\n",
            "RangeIndex: 169 entries, 0 to 168\n",
            "Data columns (total 4 columns):\n",
            " #   Column    Non-Null Count  Dtype  \n",
            "---  ------    --------------  -----  \n",
            " 0   Duration  169 non-null    int64  \n",
            " 1   Pulse     169 non-null    int64  \n",
            " 2   Maxpulse  169 non-null    int64  \n",
            " 3   Calories  164 non-null    float64\n",
            "dtypes: float64(1), int64(3)\n",
            "memory usage: 5.4 KB\n",
            "None\n"
          ]
        }
      ]
    },
    {
      "cell_type": "code",
      "source": [
        "import pandas as pd\n",
        "data = pd.read_csv(\"data.csv\")\n",
        "new_data = data.dropna()\n",
        "print(new_data.info())"
      ],
      "metadata": {
        "id": "jfBJzDAJJxHa",
        "outputId": "034d11db-a1e1-4873-ecb0-e3d7cdbdc1d6",
        "colab": {
          "base_uri": "https://localhost:8080/"
        }
      },
      "execution_count": 20,
      "outputs": [
        {
          "output_type": "stream",
          "name": "stdout",
          "text": [
            "<class 'pandas.core.frame.DataFrame'>\n",
            "Index: 164 entries, 0 to 168\n",
            "Data columns (total 4 columns):\n",
            " #   Column    Non-Null Count  Dtype  \n",
            "---  ------    --------------  -----  \n",
            " 0   Duration  164 non-null    int64  \n",
            " 1   Pulse     164 non-null    int64  \n",
            " 2   Maxpulse  164 non-null    int64  \n",
            " 3   Calories  164 non-null    float64\n",
            "dtypes: float64(1), int64(3)\n",
            "memory usage: 6.4 KB\n",
            "None\n"
          ]
        }
      ]
    },
    {
      "cell_type": "code",
      "source": [
        "import pandas as pd\n",
        "df = pd.read_csv(\"student.csv\")\n",
        "new_data = data.dropna()\n",
        "print(new_data)"
      ],
      "metadata": {
        "id": "gIwpqQdyOxaC",
        "outputId": "18b41f41-56e6-45a4-e502-56de71bc20fb",
        "colab": {
          "base_uri": "https://localhost:8080/"
        }
      },
      "execution_count": 21,
      "outputs": [
        {
          "output_type": "stream",
          "name": "stdout",
          "text": [
            "     Duration  Pulse  Maxpulse  Calories\n",
            "0          60    110       130     409.1\n",
            "1          60    117       145     479.0\n",
            "2          60    103       135     340.0\n",
            "3          45    109       175     282.4\n",
            "4          45    117       148     406.0\n",
            "..        ...    ...       ...       ...\n",
            "164        60    105       140     290.8\n",
            "165        60    110       145     300.0\n",
            "166        60    115       145     310.2\n",
            "167        75    120       150     320.4\n",
            "168        75    125       150     330.4\n",
            "\n",
            "[164 rows x 4 columns]\n"
          ]
        }
      ]
    },
    {
      "cell_type": "code",
      "source": [
        "import pandas as ps\n",
        "df = pd.read_csv(\"data.csv\")\n",
        "new_data = data.dropna()\n",
        "df.dropna = inplace = True\n",
        "print(df)"
      ],
      "metadata": {
        "id": "EhnrztBAPrhz",
        "outputId": "996a5b8b-4620-41b3-e0d5-af051c7842ac",
        "colab": {
          "base_uri": "https://localhost:8080/"
        }
      },
      "execution_count": 23,
      "outputs": [
        {
          "output_type": "stream",
          "name": "stdout",
          "text": [
            "     Duration  Pulse  Maxpulse  Calories\n",
            "0          60    110       130     409.1\n",
            "1          60    117       145     479.0\n",
            "2          60    103       135     340.0\n",
            "3          45    109       175     282.4\n",
            "4          45    117       148     406.0\n",
            "..        ...    ...       ...       ...\n",
            "164        60    105       140     290.8\n",
            "165        60    110       145     300.0\n",
            "166        60    115       145     310.2\n",
            "167        75    120       150     320.4\n",
            "168        75    125       150     330.4\n",
            "\n",
            "[169 rows x 4 columns]\n"
          ]
        }
      ]
    },
    {
      "cell_type": "code",
      "source": [],
      "metadata": {
        "id": "4BpqTmPyRWiE",
        "outputId": "b6ac8233-1e3f-4f56-c983-f7e40931e831",
        "colab": {
          "base_uri": "https://localhost:8080/"
        }
      },
      "execution_count": 24,
      "outputs": [
        {
          "output_type": "stream",
          "name": "stdout",
          "text": [
            "     Duration  Pulse  Maxpulse  Calories\n",
            "0          60    110       130     409.1\n",
            "1          60    117       145     479.0\n",
            "2          60    103       135     340.0\n",
            "3          45    109       175     282.4\n",
            "4          45    117       148     406.0\n",
            "..        ...    ...       ...       ...\n",
            "164        60    105       140     290.8\n",
            "165        60    110       145     300.0\n",
            "166        60    115       145     310.2\n",
            "167        75    120       150     320.4\n",
            "168        75    125       150     330.4\n",
            "\n",
            "[169 rows x 4 columns]\n"
          ]
        }
      ]
    },
    {
      "cell_type": "code",
      "source": [],
      "metadata": {
        "id": "0yOeFzrJTMsA"
      },
      "execution_count": null,
      "outputs": []
    }
  ]
}