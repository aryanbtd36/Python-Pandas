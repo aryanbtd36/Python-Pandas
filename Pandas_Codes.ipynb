{
  "nbformat": 4,
  "nbformat_minor": 0,
  "metadata": {
    "colab": {
      "provenance": [],
      "authorship_tag": "ABX9TyNdGMG3IXfwONj3JUJqvUYq",
      "include_colab_link": true
    },
    "kernelspec": {
      "name": "python3",
      "display_name": "Python 3"
    },
    "language_info": {
      "name": "python"
    }
  },
  "cells": [
    {
      "cell_type": "markdown",
      "metadata": {
        "id": "view-in-github",
        "colab_type": "text"
      },
      "source": [
        "<a href=\"https://colab.research.google.com/github/aryanbtd36/Python-Pandas/blob/main/Pandas_Codes.ipynb\" target=\"_parent\"><img src=\"https://colab.research.google.com/assets/colab-badge.svg\" alt=\"Open In Colab\"/></a>"
      ]
    },
    {
      "cell_type": "code",
      "execution_count": null,
      "metadata": {
        "id": "VwTxXemKwP4r"
      },
      "outputs": [],
      "source": [
        "#FIRST BASIC CODE OF PANDAS\n",
        "#Example-- 1\n",
        "import pandas as pd\n",
        "dataset = { 'Name' : [ \"Ayush\" , \"Aryan\" , \"Riyaz\" , \"Mridu\" , \"Jivan\" ] ,\n",
        "           'Age' : [ \"18\" , \"19\", \"20 \" , \"18\" , \"18\" ]\n",
        "          }\n",
        "mylist = pd.DataFrame(dataset)\n",
        "print(mylist)\n",
        "\n",
        "#Example--2\n",
        "import pandas as pd\n",
        "mydataset = {'Subjects' : [\"Maths\",\"Physics\",\"Chemmistry\",\"English\",\"Physical Education\"] ,\n",
        "             'Marks' : [\"93\", \"92\",\"94\",\"95\",\"96\"]\n",
        "            }\n",
        "myfile = pd.DataFrame(mydataset)\n",
        "print(myfile)\n",
        "\n",
        "#Series\n",
        "import pandas as pd\n",
        "\n",
        "a = [1, 7, 2]\n",
        "\n",
        "myvar = pd.Series(a)\n",
        "\n",
        "print(myvar)\n",
        "\n",
        "#Example Code\n",
        "import pandas as pd\n",
        "a = [ 1, 7, 8, 9 ]\n",
        "myvar = pd.Series(a)\n",
        "print(myvar)\n",
        "\n",
        "#Using Indexing\n",
        "import pandas as pd\n",
        "a = [ 1,2,5,4,78 ]\n",
        "myvar = pd.Series(a , index = [ \"x\",\"y\",\"z\",\"p\",\"q\" ] )\n",
        "print(myvar)\n",
        "#Accessing item by referring to the label\n",
        "print(myvar[\"y\"])\n",
        "\n",
        "#Example Code\n",
        "import pandas as pd\n",
        "a = [2,5,4,7,8,9]\n",
        "myvar = pd.Series(a , index = [\"a\",\"b\",\"c\",\"d\",\"e\",\"f\"])\n",
        "print(myvar)\n",
        "print(myvar[\"c\"])\n",
        "\n",
        "#Creating pandas series from dictionary\n",
        "import pandas as pd\n",
        "calories = { \"day1\" : 548 , \"day2\" : 458 , \"day3\" : 587 , \"day4\" : 888 }\n",
        "myvar = pd.Series(calories)\n",
        "print(myvar)\n",
        "\n",
        "#Example Code\n",
        "import pandas as pd\n",
        "data = {\n",
        "    \"calories\": [420,1,4,8],\n",
        "    \"duration\": [125,87,59,99]\n",
        "}\n",
        "myvar = pd.DataFrame(data)\n",
        "print(myvar)"
      ]
    }
  ]
}